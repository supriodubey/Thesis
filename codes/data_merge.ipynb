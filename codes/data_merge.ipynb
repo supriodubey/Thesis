{
 "cells": [
  {
   "cell_type": "code",
   "execution_count": 150,
   "id": "0b9c6242",
   "metadata": {},
   "outputs": [],
   "source": [
    "import numpy as np\n",
    "import csv\n",
    "import pandas as pd"
   ]
  },
  {
   "cell_type": "code",
   "execution_count": 151,
   "id": "efef0bb4",
   "metadata": {},
   "outputs": [],
   "source": [
    "folder_path = '/home/draco/work/quijote/'\n",
    "\n",
    "#number of simulations\n",
    "nsim = 2000 \n",
    "\n",
    "# Reading files into a list\n",
    "\n",
    "param_list = [folder_path + \"Pk_dat/Cosmo_params_\" + str(i) + \".dat\" for i in range(nsim)]\n",
    "Pk_list = [folder_path + \"Pk_LH/Pk_m_z_\" + str(i) + \"=0.txt\" for i in range(nsim)]\n",
    "\n"
   ]
  },
  {
   "cell_type": "code",
   "execution_count": 152,
   "id": "c28534ad",
   "metadata": {
    "scrolled": false
   },
   "outputs": [],
   "source": [
    "##### for params ##### \n",
    "\n",
    "params = []\n",
    "\n",
    "# column names representing the params\n",
    "column_names = [\"Omega_m\", \"Omega_b\", \"h\", \"n_s\", \"sigma_8\"]\n",
    "\n",
    "for i in param_list:\n",
    "    data = pd.read_csv(i, sep=' ', names=column_names)\n",
    "    params.append(data)\n",
    "\n",
    "# Concatenate all params in the list into a single df\n",
    "df_param = pd.concat(params, ignore_index=True)\n",
    "df_param.index.names = [\"simulation_no.\"]\n",
    "\n",
    "# df_param\n",
    "\n",
    "\n",
    "# Save data to a CSV file\n",
    "df_param.to_csv(\"lh_params.csv\", index=True)\n"
   ]
  },
  {
   "cell_type": "code",
   "execution_count": 153,
   "id": "475d6579",
   "metadata": {},
   "outputs": [],
   "source": [
    "#### for Pk ####\n",
    "Pk =[]\n",
    "\n",
    "\n",
    "for i in Pk_list:\n",
    "    data = pd.read_csv(i, sep = '\\t',header = None)[1]\n",
    "    Pk.append(data)\n",
    "\n",
    "#concatenate all Pk in seperate columns(axis = 1)\n",
    "\n",
    "df_pk = pd.concat(Pk,axis=1)\n",
    "\n",
    "# Naming columns with Pk_sim_numb\n",
    "\n",
    "df_pk.columns = [f'Pk_{i}' for i in range(nsim)]\n",
    "\n",
    "#df_pk\n",
    "\n",
    "# Save data to a CSV file\n",
    "df_pk.to_csv(\"Pk_lh.csv\", index=False)\n",
    "\n"
   ]
  },
  {
   "cell_type": "code",
   "execution_count": null,
   "id": "9b079316",
   "metadata": {},
   "outputs": [],
   "source": []
  }
 ],
 "metadata": {
  "kernelspec": {
   "display_name": "Python 3 (ipykernel)",
   "language": "python",
   "name": "python3"
  },
  "language_info": {
   "codemirror_mode": {
    "name": "ipython",
    "version": 3
   },
   "file_extension": ".py",
   "mimetype": "text/x-python",
   "name": "python",
   "nbconvert_exporter": "python",
   "pygments_lexer": "ipython3",
   "version": "3.11.5"
  }
 },
 "nbformat": 4,
 "nbformat_minor": 5
}
