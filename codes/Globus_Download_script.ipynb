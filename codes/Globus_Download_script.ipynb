{
 "cells": [
  {
   "cell_type": "code",
   "execution_count": 1,
   "id": "905f6c08",
   "metadata": {},
   "outputs": [],
   "source": [
    "from globus_sdk import TransferClient, TransferData , NativeAppAuthClient, AccessTokenAuthorizer\n"
   ]
  },
  {
   "cell_type": "markdown",
   "id": "0812c23e",
   "metadata": {},
   "source": [
    "## Ids"
   ]
  },
  {
   "cell_type": "code",
   "execution_count": 2,
   "id": "9024a7f4",
   "metadata": {
    "scrolled": true
   },
   "outputs": [],
   "source": [
    "# Your Client ID refer to the globus-sdk documentation\n",
    "\n",
    "CLIENT_ID = \"d58a7edb-dfc0-4e55-bd57-defc36cd7270\"\n",
    "\n",
    "#source endpoint id and destination endpoint ids\n",
    "\n",
    "src_endpoint_id = \"f4863854-3819-11eb-b171-0ee0d5d9299f\"\n",
    "dest_endpoint_id = \"93d6c942-7a51-11ee-bdd3-c52a29481bea\"\n"
   ]
  },
  {
   "cell_type": "markdown",
   "id": "2873ddb7",
   "metadata": {},
   "source": [
    "## Define the collection path in Globus and the destination path"
   ]
  },
  {
   "cell_type": "code",
   "execution_count": 3,
   "id": "ef2b7d4f",
   "metadata": {},
   "outputs": [],
   "source": [
    "collection_path = \"/Snapshots/latin_hypercube/\" # add the address of the collection path in globus\n",
    "dest_path = \"/home/draco/Thesis/Pk_dat/\" # put the path where you want to store your downloaded files"
   ]
  },
  {
   "cell_type": "markdown",
   "id": "d1881d68",
   "metadata": {},
   "source": [
    "## Create a NativeAuthClient and generate the authorization url. Exchange the token and create a transfer client"
   ]
  },
  {
   "cell_type": "code",
   "execution_count": 4,
   "id": "5ffe0e11",
   "metadata": {},
   "outputs": [
    {
     "name": "stdout",
     "output_type": "stream",
     "text": [
      "Please go to this URL and login:\n",
      "\n",
      "https://auth.globus.org/v2/oauth2/authorize?client_id=d58a7edb-dfc0-4e55-bd57-defc36cd7270&redirect_uri=https%3A%2F%2Fauth.globus.org%2Fv2%2Fweb%2Fauth-code&scope=openid+profile+email+urn%3Aglobus%3Aauth%3Ascope%3Atransfer.api.globus.org%3Aall&state=_default&response_type=code&code_challenge=Gr5z63jtvyrzRNSdUXaB-ht8z1XTXMa54bJrpdcVFlQ&code_challenge_method=S256&access_type=online\n",
      "\n",
      "Please enter the code you get after login here: ZjK43R7N73fTtihxzWFwKXpKnI61y6\n"
     ]
    }
   ],
   "source": [
    "client = NativeAppAuthClient(CLIENT_ID)\n",
    "client.oauth2_start_flow()\n",
    "\n",
    "\n",
    "# Authentication\n",
    "authorize_url = client.oauth2_get_authorize_url()\n",
    "print(f\"Please go to this URL and login:\\n\\n{authorize_url}\\n\")\n",
    "auth_code = input(\"Please enter the code you get after login here: \").strip()\n",
    "\n",
    "# Exchanging Token \n",
    "tokens= client.oauth2_exchange_code_for_tokens(auth_code)\n",
    "transfer_tokens = tokens.by_resource_server[\"transfer.api.globus.org\"][\"access_token\"]\n",
    "\n",
    "# Creating transferclient\n",
    "tc = TransferClient(authorizer= AccessTokenAuthorizer(transfer_tokens))\n"
   ]
  },
  {
   "cell_type": "markdown",
   "id": "6c49701d",
   "metadata": {},
   "source": [
    "## Downloading Pk_m_z_{folder_number}=0.txt\" from 2k simulation in Latin Hypercube from Quijote."
   ]
  },
  {
   "cell_type": "code",
   "execution_count": 40,
   "id": "680e76fe",
   "metadata": {
    "scrolled": true
   },
   "outputs": [
    {
     "name": "stdout",
     "output_type": "stream",
     "text": [
      "Transfer task for folder 1900 submitted. Task ID: 7d317016-7a65-11ee-8c4a-fd88ce9321ad\n",
      "Transfer task for folder 1901 submitted. Task ID: 7d317018-7a65-11ee-8c4a-fd88ce9321ad\n",
      "Transfer task for folder 1902 submitted. Task ID: 7e547844-7a65-11ee-8c4a-fd88ce9321ad\n",
      "Transfer task for folder 1903 submitted. Task ID: 7ecca8a0-7a65-11ee-8c4a-fd88ce9321ad\n",
      "Transfer task for folder 1904 submitted. Task ID: 7ea43cc7-7a65-11ee-8c4a-fd88ce9321ad\n",
      "Transfer task for folder 1905 submitted. Task ID: 7eeb46a4-7a65-11ee-8c4a-fd88ce9321ad\n",
      "Transfer task for folder 1906 submitted. Task ID: 801f5720-7a65-11ee-8c4a-fd88ce9321ad\n",
      "Transfer task for folder 1907 submitted. Task ID: 8065cb2e-7a65-11ee-8c4a-fd88ce9321ad\n",
      "Transfer task for folder 1908 submitted. Task ID: 80b0bbfc-7a65-11ee-8c4a-fd88ce9321ad\n",
      "Transfer task for folder 1909 submitted. Task ID: 8103723e-7a65-11ee-8c4a-fd88ce9321ad\n",
      "Transfer task for folder 1910 submitted. Task ID: 814c7d3a-7a65-11ee-8c4a-fd88ce9321ad\n",
      "Transfer task for folder 1911 submitted. Task ID: 8196d95c-7a65-11ee-8c4a-fd88ce9321ad\n",
      "Transfer task for folder 1912 submitted. Task ID: 81de9e7c-7a65-11ee-8c4a-fd88ce9321ad\n",
      "Transfer task for folder 1913 submitted. Task ID: 8196d95e-7a65-11ee-8c4a-fd88ce9321ad\n",
      "Transfer task for folder 1914 submitted. Task ID: 81b98f75-7a65-11ee-8c4a-fd88ce9321ad\n",
      "Transfer task for folder 1915 submitted. Task ID: 82b959ea-7a65-11ee-8c4a-fd88ce9321ad\n",
      "Transfer task for folder 1916 submitted. Task ID: 82ff53d2-7a65-11ee-8c4a-fd88ce9321ad\n",
      "Transfer task for folder 1917 submitted. Task ID: 83435bea-7a65-11ee-8c4a-fd88ce9321ad\n",
      "Transfer task for folder 1918 submitted. Task ID: 83886e06-7a65-11ee-8c4a-fd88ce9321ad\n",
      "Transfer task for folder 1919 submitted. Task ID: 82ff53d4-7a65-11ee-8c4a-fd88ce9321ad\n",
      "Transfer task for folder 1920 submitted. Task ID: 840ddab4-7a65-11ee-8c4a-fd88ce9321ad\n",
      "Transfer task for folder 1921 submitted. Task ID: 844c37b4-7a65-11ee-8c4a-fd88ce9321ad\n",
      "Transfer task for folder 1922 submitted. Task ID: 848e1198-7a65-11ee-8c4a-fd88ce9321ad\n",
      "Transfer task for folder 1923 submitted. Task ID: 848e119a-7a65-11ee-8c4a-fd88ce9321ad\n",
      "Transfer task for folder 1924 submitted. Task ID: 848e119c-7a65-11ee-8c4a-fd88ce9321ad\n",
      "Transfer task for folder 1925 submitted. Task ID: 8558c604-7a65-11ee-8c4a-fd88ce9321ad\n",
      "Transfer task for folder 1926 submitted. Task ID: 859a326a-7a65-11ee-8c4a-fd88ce9321ad\n",
      "Transfer task for folder 1927 submitted. Task ID: 85e789c0-7a65-11ee-8c4a-fd88ce9321ad\n",
      "Transfer task for folder 1928 submitted. Task ID: 85773d5b-7a65-11ee-8c4a-fd88ce9321ad\n",
      "Transfer task for folder 1929 submitted. Task ID: 867ecf38-7a65-11ee-8c4a-fd88ce9321ad\n",
      "Transfer task for folder 1930 submitted. Task ID: 86bc7130-7a65-11ee-8c4a-fd88ce9321ad\n",
      "Transfer task for folder 1931 submitted. Task ID: 86fe983a-7a65-11ee-8c4a-fd88ce9321ad\n",
      "Transfer task for folder 1932 submitted. Task ID: 86fe983c-7a65-11ee-8c4a-fd88ce9321ad\n",
      "Transfer task for folder 1933 submitted. Task ID: 877cd4e8-7a65-11ee-8c4a-fd88ce9321ad\n",
      "Transfer task for folder 1934 submitted. Task ID: 87c23fc4-7a65-11ee-8c4a-fd88ce9321ad\n",
      "Transfer task for folder 1935 submitted. Task ID: 88060830-7a65-11ee-8c4a-fd88ce9321ad\n",
      "Transfer task for folder 1936 submitted. Task ID: 8845a5b2-7a65-11ee-8c4a-fd88ce9321ad\n",
      "Transfer task for folder 1937 submitted. Task ID: 87c23fc6-7a65-11ee-8c4a-fd88ce9321ad\n",
      "Transfer task for folder 1938 submitted. Task ID: 88d049a6-7a65-11ee-8c4a-fd88ce9321ad\n",
      "Transfer task for folder 1939 submitted. Task ID: 891ba6da-7a65-11ee-8c4a-fd88ce9321ad\n",
      "Transfer task for folder 1940 submitted. Task ID: 896701ac-7a65-11ee-8c4a-fd88ce9321ad\n",
      "Transfer task for folder 1941 submitted. Task ID: 89c693e2-7a65-11ee-8c4a-fd88ce9321ad\n",
      "Transfer task for folder 1942 submitted. Task ID: 8a127e9c-7a65-11ee-8c4a-fd88ce9321ad\n",
      "Transfer task for folder 1943 submitted. Task ID: 8a51789a-7a65-11ee-8c4a-fd88ce9321ad\n",
      "Transfer task for folder 1944 submitted. Task ID: 8a90b35c-7a65-11ee-8c4a-fd88ce9321ad\n",
      "Transfer task for folder 1945 submitted. Task ID: 8adf0930-7a65-11ee-8c4a-fd88ce9321ad\n",
      "Transfer task for folder 1946 submitted. Task ID: 8b230e3c-7a65-11ee-8c4a-fd88ce9321ad\n",
      "Transfer task for folder 1947 submitted. Task ID: 8b6afb02-7a65-11ee-8c4a-fd88ce9321ad\n",
      "Transfer task for folder 1948 submitted. Task ID: 8bb82a9e-7a65-11ee-8c4a-fd88ce9321ad\n",
      "Transfer task for folder 1949 submitted. Task ID: 8b2fb9a5-7a65-11ee-8c4a-fd88ce9321ad\n",
      "Transfer task for folder 1950 submitted. Task ID: 8cbf474c-7a65-11ee-bdd4-c52a29481bea\n",
      "Transfer task for folder 1951 submitted. Task ID: 8d053464-7a65-11ee-bdd4-c52a29481bea\n",
      "Transfer task for folder 1952 submitted. Task ID: 8d5373f4-7a65-11ee-bdd4-c52a29481bea\n",
      "Transfer task for folder 1953 submitted. Task ID: 8d99e154-7a65-11ee-bdd4-c52a29481bea\n",
      "Transfer task for folder 1954 submitted. Task ID: 8d5373f6-7a65-11ee-bdd4-c52a29481bea\n",
      "Transfer task for folder 1955 submitted. Task ID: 8d72e77b-7a65-11ee-bdd4-c52a29481bea\n",
      "Transfer task for folder 1956 submitted. Task ID: 8e68ffca-7a65-11ee-bdd4-c52a29481bea\n",
      "Transfer task for folder 1957 submitted. Task ID: 8eac5f72-7a65-11ee-bdd4-c52a29481bea\n",
      "Transfer task for folder 1958 submitted. Task ID: 8eac5f74-7a65-11ee-bdd4-c52a29481bea\n",
      "Transfer task for folder 1959 submitted. Task ID: 8f421148-7a65-11ee-bdd4-c52a29481bea\n",
      "Transfer task for folder 1960 submitted. Task ID: 8f9335f0-7a65-11ee-bdd4-c52a29481bea\n",
      "Transfer task for folder 1961 submitted. Task ID: 8fd9f04e-7a65-11ee-bdd4-c52a29481bea\n",
      "Transfer task for folder 1962 submitted. Task ID: 90206df8-7a65-11ee-bdd4-c52a29481bea\n",
      "Transfer task for folder 1963 submitted. Task ID: 9078e4e2-7a65-11ee-bdd4-c52a29481bea\n",
      "Transfer task for folder 1964 submitted. Task ID: 90bf2a38-7a65-11ee-bdd4-c52a29481bea\n",
      "Transfer task for folder 1965 submitted. Task ID: 9105ade6-7a65-11ee-bdd4-c52a29481bea\n",
      "Transfer task for folder 1966 submitted. Task ID: 914a93c0-7a65-11ee-bdd4-c52a29481bea\n",
      "Transfer task for folder 1967 submitted. Task ID: 9191b8a4-7a65-11ee-bdd4-c52a29481bea\n",
      "Transfer task for folder 1968 submitted. Task ID: 91d99584-7a65-11ee-bdd4-c52a29481bea\n",
      "Transfer task for folder 1969 submitted. Task ID: 9222114c-7a65-11ee-bdd4-c52a29481bea\n",
      "Transfer task for folder 1970 submitted. Task ID: 926a15e6-7a65-11ee-bdd4-c52a29481bea\n",
      "Transfer task for folder 1971 submitted. Task ID: 92902a61-7a65-11ee-bdd4-c52a29481bea\n",
      "Transfer task for folder 1972 submitted. Task ID: 930a89a4-7a65-11ee-bdd4-c52a29481bea\n",
      "Transfer task for folder 1973 submitted. Task ID: 92e0554f-7a65-11ee-bdd4-c52a29481bea\n",
      "Transfer task for folder 1974 submitted. Task ID: 93a6ebfa-7a65-11ee-bdd4-c52a29481bea\n",
      "Transfer task for folder 1975 submitted. Task ID: 93e605f6-7a65-11ee-bdd4-c52a29481bea\n",
      "Transfer task for folder 1976 submitted. Task ID: 94307c08-7a65-11ee-bdd4-c52a29481bea\n",
      "Transfer task for folder 1977 submitted. Task ID: 9477d756-7a65-11ee-bdd4-c52a29481bea\n",
      "Transfer task for folder 1978 submitted. Task ID: 94ce67ec-7a65-11ee-bdd4-c52a29481bea\n",
      "Transfer task for folder 1979 submitted. Task ID: 94ee9685-7a65-11ee-bdd4-c52a29481bea\n",
      "Transfer task for folder 1980 submitted. Task ID: 9569ba94-7a65-11ee-bdd4-c52a29481bea\n",
      "Transfer task for folder 1981 submitted. Task ID: 94ce67ef-7a65-11ee-bdd4-c52a29481bea\n",
      "Transfer task for folder 1982 submitted. Task ID: 95737e64-7a65-11ee-bdd4-c52a29481bea\n",
      "Transfer task for folder 1983 submitted. Task ID: 9641c15a-7a65-11ee-bdd4-c52a29481bea\n",
      "Transfer task for folder 1984 submitted. Task ID: 96895b00-7a65-11ee-bdd4-c52a29481bea\n",
      "Transfer task for folder 1985 submitted. Task ID: 9695588a-7a65-11ee-bdd4-c52a29481bea\n",
      "Transfer task for folder 1986 submitted. Task ID: 96f66c23-7a65-11ee-bdd4-c52a29481bea\n",
      "Transfer task for folder 1987 submitted. Task ID: 976d0620-7a65-11ee-bdd4-c52a29481bea\n",
      "Transfer task for folder 1988 submitted. Task ID: 97b1a10e-7a65-11ee-bdd4-c52a29481bea\n",
      "Transfer task for folder 1989 submitted. Task ID: 97f7af46-7a65-11ee-bdd4-c52a29481bea\n",
      "Transfer task for folder 1990 submitted. Task ID: 9790be64-7a65-11ee-bdd4-c52a29481bea\n",
      "Transfer task for folder 1991 submitted. Task ID: 9885e978-7a65-11ee-bdd4-c52a29481bea\n",
      "Transfer task for folder 1992 submitted. Task ID: 97b1a111-7a65-11ee-bdd4-c52a29481bea\n",
      "Transfer task for folder 1993 submitted. Task ID: 991f3f74-7a65-11ee-bdd4-c52a29481bea\n",
      "Transfer task for folder 1994 submitted. Task ID: 99678216-7a65-11ee-bdd4-c52a29481bea\n"
     ]
    },
    {
     "name": "stdout",
     "output_type": "stream",
     "text": [
      "Transfer task for folder 1995 submitted. Task ID: 99b1478e-7a65-11ee-bdd4-c52a29481bea\n",
      "Transfer task for folder 1996 submitted. Task ID: 9a000b4e-7a65-11ee-bdd4-c52a29481bea\n",
      "Transfer task for folder 1997 submitted. Task ID: 9a54b7fc-7a65-11ee-bdd4-c52a29481bea\n",
      "Transfer task for folder 1998 submitted. Task ID: 9a97cf7e-7a65-11ee-bdd4-c52a29481bea\n",
      "Transfer task for folder 1999 submitted. Task ID: 9adb0dac-7a65-11ee-bdd4-c52a29481bea\n"
     ]
    }
   ],
   "source": [
    "# for 2k simulation\n",
    "\n",
    "for sim_number in range(1900,2000):\n",
    "    \n",
    "    # Path for sim_number_folder\n",
    "    \n",
    "    pk_collection_path = f\"{collection_path}/{sim_number}/Cosmo_params.dat\"\n",
    "    pk_destination_path = f\"{dest_path}/Cosmo_params_{sim_number}.dat\"\n",
    "\n",
    "    # Path for NCV_sim_number_folder\n",
    "    \n",
    "#     ncv_collection_path = f\"{collection_path}NCV_0_folder{sim_number}/Pk_m_z=0.txt\"\n",
    "#     ncv_destination_path = f\"{dest_path}NCV_0_folder{sim_number}_Pk_m_z=0.txt\"\n",
    "    \n",
    "    # Transfer Pk_m_z=0.txt from the sim_number_folder\n",
    "    \n",
    "    transfer_data = TransferData(tc, src_endpoint_id, dest_endpoint_id)\n",
    "    transfer_data.add_item(pk_collection_path, pk_destination_path)\n",
    "    \n",
    "    # Error handling - if success try block will execute and reesult variable will be assigned the result of the transfer task\n",
    "    try:\n",
    "        result = tc.submit_transfer(transfer_data)\n",
    "        task_id = result[\"task_id\"]\n",
    "        print(f\"Transfer task for folder {sim_number} submitted. Task ID: {task_id}\")\n",
    "    except Exception as err:\n",
    "        print(f\"Error transferring folder {sim_number}: {str(err)}\")\n",
    "\n",
    "    # Transfer Pk_m_z=0.txt from NCV_0_folder\n",
    "    \n",
    "#     transfer_data_ncv = TransferData(tc, src_endpoint_id, dest_endpoint_id)\n",
    "#     transfer_data_ncv.add_item(ncv_collection_path, ncv_destination_path)\n",
    "\n",
    "#     try:\n",
    "#         result_ncv = tc.submit_transfer(transfer_data_ncv)\n",
    "#         task_id_ncv = result_ncv[\"task_id\"]\n",
    "#         print(f\"Transfer task for NCV_0_folder{sim_number} submitted. Task ID: {task_id_ncv}\")\n",
    "#     except Exception as err:\n",
    "#         print(f\"Error transferring NCV_0_folder{sim_number}: {str(err)}\")\n",
    "    "
   ]
  },
  {
   "cell_type": "code",
   "execution_count": 41,
   "id": "78d04cc3",
   "metadata": {},
   "outputs": [
    {
     "name": "stdout",
     "output_type": "stream",
     "text": [
      "Transfer task 4f467076-74ce-11ee-b164-7d6eafac2be9 failed with errors: {'code': 'CANCELED', 'description': 'canceled'}\n",
      "Transfer task 65c3e0b2-74cf-11ee-842c-378be0d9c521 completed successfully.\n",
      "Transfer task 0d2c4f18-76a3-11ee-b164-7d6eafac2be9 completed successfully.\n",
      "Transfer task 0e1331d0-76a3-11ee-b164-7d6eafac2be9 failed with errors: {'code': 'INVALID_SERVICE_CREDENTIAL', 'description': 'the Globus Auth credential is invalid'}\n",
      "Transfer task 0e51d250-76a3-11ee-b164-7d6eafac2be9 completed successfully.\n",
      "Transfer task 0e51d252-76a3-11ee-b164-7d6eafac2be9 failed with errors: {'code': 'INVALID_SERVICE_CREDENTIAL', 'description': 'the Globus Auth credential is invalid'}\n",
      "Transfer task 0ec7442c-76a3-11ee-b164-7d6eafac2be9 completed successfully.\n",
      "Transfer task 0efdfe04-76a3-11ee-b164-7d6eafac2be9 failed with errors: {'code': 'INVALID_SERVICE_CREDENTIAL', 'description': 'the Globus Auth credential is invalid'}\n",
      "Transfer task 0f3e475c-76a3-11ee-b164-7d6eafac2be9 completed successfully.\n",
      "Transfer task 0efdfe06-76a3-11ee-b164-7d6eafac2be9 failed with errors: {'code': 'INVALID_SERVICE_CREDENTIAL', 'description': 'the Globus Auth credential is invalid'}\n",
      "Transfers completed.\n"
     ]
    }
   ],
   "source": [
    "while True:\n",
    "    task_list = tc.task_list()\n",
    "    for task in task_list:\n",
    "        if task[\"status\"] == \"SUCCEEDED\":\n",
    "            print(f\"Transfer task {task['task_id']} completed successfully.\")\n",
    "        elif task[\"status\"] == \"FAILED\":\n",
    "            print(f\"Transfer task {task['task_id']} failed with errors: {task['fatal_error']}\")\n",
    "    if all(task[\"status\"] in (\"SUCCEEDED\", \"FAILED\") for task in task_list):\n",
    "        break\n",
    "\n",
    "print(\"Transfers completed.\")\n",
    "\n",
    "\n",
    "\n",
    "\n",
    "\n"
   ]
  },
  {
   "cell_type": "code",
   "execution_count": 31,
   "id": "38c864d6",
   "metadata": {},
   "outputs": [
    {
     "name": "stdout",
     "output_type": "stream",
     "text": [
      "1308\n",
      "1309\n"
     ]
    }
   ],
   "source": [
    "for i in range(1308,1310):\n",
    "    print(i)"
   ]
  },
  {
   "cell_type": "code",
   "execution_count": null,
   "id": "f05c7651",
   "metadata": {},
   "outputs": [],
   "source": []
  }
 ],
 "metadata": {
  "kernelspec": {
   "display_name": "Python 3 (ipykernel)",
   "language": "python",
   "name": "python3"
  },
  "language_info": {
   "codemirror_mode": {
    "name": "ipython",
    "version": 3
   },
   "file_extension": ".py",
   "mimetype": "text/x-python",
   "name": "python",
   "nbconvert_exporter": "python",
   "pygments_lexer": "ipython3",
   "version": "3.8.3"
  }
 },
 "nbformat": 4,
 "nbformat_minor": 5
}
